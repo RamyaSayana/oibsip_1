{
  "nbformat": 4,
  "nbformat_minor": 0,
  "metadata": {
    "colab": {
      "provenance": [],
      "authorship_tag": "ABX9TyMc5oA9DKY2RPzatDozWX55",
      "include_colab_link": true
    },
    "kernelspec": {
      "name": "python3",
      "display_name": "Python 3"
    },
    "language_info": {
      "name": "python"
    }
  },
  "cells": [
    {
      "cell_type": "markdown",
      "metadata": {
        "id": "view-in-github",
        "colab_type": "text"
      },
      "source": [
        "<a href=\"https://colab.research.google.com/github/RamyaSayana/oibsip_1/blob/main/ramya.ipynb\" target=\"_parent\"><img src=\"https://colab.research.google.com/assets/colab-badge.svg\" alt=\"Open In Colab\"/></a>"
      ]
    },
    {
      "cell_type": "code",
      "execution_count": 1,
      "metadata": {
        "colab": {
          "base_uri": "https://localhost:8080/"
        },
        "id": "IoVeqYhGS5Kl",
        "outputId": "4801a30a-b419-466c-c195-d7164e2caeb4"
      },
      "outputs": [
        {
          "output_type": "stream",
          "name": "stdout",
          "text": [
            "How many characters do you want in your password? 9\n",
            "Strong Password:  4ASv!1ezK{\n"
          ]
        }
      ],
      "source": [
        "# import modules\n",
        "import string\n",
        "import random\n",
        "\n",
        "\n",
        "# store all characters in lists\n",
        "s1 = list(string.ascii_lowercase)\n",
        "s2 = list(string.ascii_uppercase)\n",
        "s3 = list(string.digits)\n",
        "s4 = list(string.punctuation)\n",
        "\n",
        "\n",
        "# Ask user about the number of characters\n",
        "user_input = input(\"How many characters do you want in your password? \")\n",
        "\n",
        "\n",
        "# check this input is it number? is it more than 8?\n",
        "while True:\n",
        "\n",
        "\ttry:\n",
        "\n",
        "\t\tcharacters_number = int(user_input)\n",
        "\n",
        "\t\tif characters_number < 8:\n",
        "\n",
        "\t\t\tprint(\"Your number should be at least 8.\")\n",
        "\n",
        "\t\t\tuser_input = input(\"Please, Enter your number again: \")\n",
        "\n",
        "\t\telse:\n",
        "\n",
        "\t\t\tbreak\n",
        "\n",
        "\texcept:\n",
        "\n",
        "\t\tprint(\"Please, Enter numbers only.\")\n",
        "\n",
        "\t\tuser_input = input(\"How many characters do you want in your password? \")\n",
        "\n",
        "\n",
        "# shuffle all lists\n",
        "random.shuffle(s1)\n",
        "random.shuffle(s2)\n",
        "random.shuffle(s3)\n",
        "random.shuffle(s4)\n",
        "\n",
        "\n",
        "# calculate 30% & 20% of number of characters\n",
        "part1 = round(characters_number * (30/100))\n",
        "part2 = round(characters_number * (20/100))\n",
        "\n",
        "\n",
        "# generation of the password (60% letters and 40% digits & punctuations)\n",
        "result = []\n",
        "\n",
        "for x in range(part1):\n",
        "\n",
        "\tresult.append(s1[x])\n",
        "\tresult.append(s2[x])\n",
        "\n",
        "for x in range(part2):\n",
        "\n",
        "\tresult.append(s3[x])\n",
        "\tresult.append(s4[x])\n",
        "\n",
        "\n",
        "# shuffle result\n",
        "random.shuffle(result)\n",
        "\n",
        "\n",
        "# join result\n",
        "password = \"\".join(result)\n",
        "print(\"Strong Password: \", password)\n"
      ]
    }
  ]
}